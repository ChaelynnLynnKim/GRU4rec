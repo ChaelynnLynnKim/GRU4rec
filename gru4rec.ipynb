{
  "nbformat": 4,
  "nbformat_minor": 0,
  "metadata": {
    "colab": {
      "name": "gru4rec.ipynb",
      "provenance": [],
      "collapsed_sections": [],
      "authorship_tag": "ABX9TyMhwR9BqNJWnMkEKXjccYg5",
      "include_colab_link": true
    },
    "kernelspec": {
      "name": "python3",
      "display_name": "Python 3"
    },
    "language_info": {
      "name": "python"
    }
  },
  "cells": [
    {
      "cell_type": "markdown",
      "metadata": {
        "id": "view-in-github",
        "colab_type": "text"
      },
      "source": [
        "<a href=\"https://colab.research.google.com/github/ChaelynnLynnKim/GRU4rec/blob/main/gru4rec.ipynb\" target=\"_parent\"><img src=\"https://colab.research.google.com/assets/colab-badge.svg\" alt=\"Open In Colab\"/></a>"
      ]
    },
    {
      "cell_type": "code",
      "execution_count": null,
      "metadata": {
        "colab": {
          "base_uri": "https://localhost:8080/"
        },
        "id": "VB35xAas8G5F",
        "outputId": "e02b094c-08e8-444a-9a42-8fd4d7134e71"
      },
      "outputs": [
        {
          "output_type": "stream",
          "name": "stdout",
          "text": [
            "Cloning into 'GRU4REC-pytorch'...\n",
            "remote: Enumerating objects: 166, done.\u001b[K\n",
            "remote: Counting objects: 100% (4/4), done.\u001b[K\n",
            "remote: Compressing objects: 100% (4/4), done.\u001b[K\n",
            "remote: Total 166 (delta 0), reused 0 (delta 0), pack-reused 162\u001b[K\n",
            "Receiving objects: 100% (166/166), 75.41 KiB | 627.00 KiB/s, done.\n",
            "Resolving deltas: 100% (81/81), done.\n"
          ]
        }
      ],
      "source": [
        "! git clone https://github.com/hungthanhpham94/GRU4REC-pytorch.git"
      ]
    },
    {
      "cell_type": "code",
      "source": [
        "import numpy\n",
        "print(numpy.__version__)"
      ],
      "metadata": {
        "colab": {
          "base_uri": "https://localhost:8080/"
        },
        "id": "Fr8NpWik8gin",
        "outputId": "8ceef644-f61d-4528-fa1b-980b807a160b"
      },
      "execution_count": null,
      "outputs": [
        {
          "output_type": "stream",
          "name": "stdout",
          "text": [
            "1.21.6\n"
          ]
        }
      ]
    },
    {
      "cell_type": "code",
      "source": [
        "! gdown --id 1P5yfd7m88DyTS06bd6A4UDJjiAklhGL1 -O GRU4REC-pytorch/data/raw_data/yoochoose-clicks.dat"
      ],
      "metadata": {
        "colab": {
          "base_uri": "https://localhost:8080/"
        },
        "id": "JJP0-xXn_34r",
        "outputId": "53265683-bdb4-4b6c-9f6e-68d2d6d2b1ef"
      },
      "execution_count": 10,
      "outputs": [
        {
          "output_type": "stream",
          "name": "stdout",
          "text": [
            "/usr/local/lib/python3.7/dist-packages/gdown/cli.py:131: FutureWarning: Option `--id` was deprecated in version 4.3.1 and will be removed in 5.0. You don't need to pass it anymore to use a file ID.\n",
            "  category=FutureWarning,\n",
            "Downloading...\n",
            "From: https://drive.google.com/uc?id=1P5yfd7m88DyTS06bd6A4UDJjiAklhGL1\n",
            "To: /content/GRU4REC-pytorch/data/raw_data/yoochoose-clicks.dat\n",
            "100% 1.49G/1.49G [00:12<00:00, 122MB/s]\n"
          ]
        }
      ]
    },
    {
      "cell_type": "code",
      "source": [
        "! cd GRU4REC-pytorch && python preprocessing.py"
      ],
      "metadata": {
        "id": "LBih2jaI8QiT",
        "colab": {
          "base_uri": "https://localhost:8080/"
        },
        "outputId": "1cfb130e-452d-4b27-d484-eedd2fd1b751"
      },
      "execution_count": 11,
      "outputs": [
        {
          "output_type": "stream",
          "name": "stdout",
          "text": [
            "Testing Set has 7925086 Events,  1994993 Sessions, and 34907 Items\n",
            "\n",
            "\n",
            "Training Set has 31637239 Events,  7966257 Sessions, and 37483 Items\n",
            "\n",
            "\n",
            "Validation Set has 71222 Events,  15324 Sessions, and 6751 Items\n",
            "\n",
            "\n"
          ]
        }
      ]
    },
    {
      "cell_type": "code",
      "source": [
        "! cd GRU4REC-pytorch && python main.py --data_folder /content/GRU4REC-pytorch/Dataset --train_data /content/GRU4REC-pytorch/Dataset/RecSys_Dataset_After/recSys15TrainOnly.txt --valid_data /content/GRU4REC-pytorch/Dataset/RecSys_Dataset_After/recSys15Valid.txt"
      ],
      "metadata": {
        "colab": {
          "base_uri": "https://localhost:8080/"
        },
        "id": "LvYhh9De_Vxr",
        "outputId": "6dead2ca-2dfb-427e-947a-a96f8239ea3c"
      },
      "execution_count": null,
      "outputs": [
        {
          "output_type": "stream",
          "name": "stdout",
          "text": [
            "Loading train data from /content/GRU4REC-pytorch/Dataset/RecSys_Dataset_After/recSys15TrainOnly.txt\n",
            "Loading valid data from /content/GRU4REC-pytorch/Dataset/RecSys_Dataset_After/recSys15Valid.txt\n",
            "PARAMETER----------\n",
            "BATCH_SIZE=50\n",
            "CHECKPOINT_DIR=checkpoint/06051343\n",
            "CUDA=False\n",
            "DATA_FOLDER=/content/GRU4REC-pytorch/Dataset\n",
            "DROPOUT_HIDDEN=0.5\n",
            "DROPOUT_INPUT=0\n",
            "EMBEDDING_DIM=-1\n",
            "EPS=1e-06\n",
            "FINAL_ACT=tanh\n",
            "HIDDEN_SIZE=100\n",
            "IS_EVAL=False\n",
            "K_EVAL=20\n",
            "LOAD_MODEL=None\n",
            "LOSS_TYPE=TOP1-max\n",
            "LR=0.01\n",
            "MODEL_NAME=GRU4REC-CrossEntropy\n",
            "MOMENTUM=0\n",
            "N_EPOCHS=5\n",
            "NUM_LAYERS=3\n",
            "OPTIMIZER_TYPE=Adagrad\n",
            "SAVE_DIR=models\n",
            "SEED=22\n",
            "SIGMA=None\n",
            "TIME_SORT=False\n",
            "TRAIN_DATA=/content/GRU4REC-pytorch/Dataset/RecSys_Dataset_After/recSys15TrainOnly.txt\n",
            "VALID_DATA=/content/GRU4REC-pytorch/Dataset/RecSys_Dataset_After/recSys15Valid.txt\n",
            "WEIGHT_DECAY=0\n",
            "-------------------\n",
            "#### START TRAINING....\n",
            "Start Epoch # 0\n",
            "  2% 13314/632744 [54:05<40:28:21,  4.25it/s]"
          ]
        }
      ]
    },
    {
      "cell_type": "code",
      "source": [
        ""
      ],
      "metadata": {
        "id": "QXQCDzr7D5nN"
      },
      "execution_count": null,
      "outputs": []
    }
  ]
}